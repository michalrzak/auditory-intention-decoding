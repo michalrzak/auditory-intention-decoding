{
 "cells": [
  {
   "cell_type": "code",
   "execution_count": 1,
   "metadata": {
    "collapsed": true
   },
   "outputs": [
    {
     "name": "stdout",
     "output_type": "stream",
     "text": [
      "pygame 2.5.2 (SDL 2.28.2, Python 3.8.18)\n",
      "Hello from the pygame community. https://www.pygame.org/contribute.html\n"
     ]
    }
   ],
   "source": [
    "import time\n",
    "\n",
    "from auditory_stimulation.auditory_tagging.assr_tagger import ASSRTagger\n",
    "from auditory_stimulation.auditory_tagging.helper.load_wav_as_numpy_array import load_wav_as_numpy_array\n",
    "from auditory_stimulation.auditory_tagging.modulation_strategies import amplitude_modulation\n",
    "from auditory_stimulation.auditory_tagging.tag_generators import sine_signal\n",
    "from auditory_stimulation.view.sound_players import psychopy_player"
   ]
  },
  {
   "cell_type": "code",
   "execution_count": 2,
   "outputs": [],
   "source": [
    "import numpy as np\n",
    "import matplotlib.pyplot as plt"
   ],
   "metadata": {
    "collapsed": false
   }
  },
  {
   "cell_type": "code",
   "execution_count": 3,
   "outputs": [],
   "source": [
    "# audio = load_wav_as_numpy_array(\"../test_sounds/test.wav\")\n",
    "audio = load_wav_as_numpy_array(\"../test_sounds/440.wav\")"
   ],
   "metadata": {
    "collapsed": false
   }
  },
  {
   "cell_type": "code",
   "execution_count": 4,
   "outputs": [],
   "source": [
    "stimulus = ASSRTagger(audio,\n",
    "                      [(2, 6)],\n",
    "                      #63,\n",
    "                      42,\n",
    "                      sine_signal,\n",
    "                      amplitude_modulation)"
   ],
   "metadata": {
    "collapsed": false
   }
  },
  {
   "cell_type": "code",
   "execution_count": 5,
   "outputs": [],
   "source": [
    "modified = stimulus.create()"
   ],
   "metadata": {
    "collapsed": false
   }
  },
  {
   "cell_type": "code",
   "execution_count": 6,
   "outputs": [],
   "source": [
    "psychopy_player(audio)\n",
    "time.sleep(3)\n",
    "psychopy_player(modified)"
   ],
   "metadata": {
    "collapsed": false
   }
  },
  {
   "cell_type": "code",
   "execution_count": 6,
   "outputs": [],
   "source": [],
   "metadata": {
    "collapsed": false
   }
  },
  {
   "cell_type": "code",
   "execution_count": 7,
   "outputs": [],
   "source": [
    "modified_spectrum = np.abs(\n",
    "    np.real(np.fft.fftshift(np.fft.fft(modified.audio[2 * audio.sampling_frequency: 6 * audio.sampling_frequency, 1]))))\n",
    "original_spectrum = np.abs(\n",
    "    np.real(np.fft.fftshift(np.fft.fft(audio.audio[2 * audio.sampling_frequency: 6 * audio.sampling_frequency, 1]))))"
   ],
   "metadata": {
    "collapsed": false
   }
  },
  {
   "cell_type": "code",
   "execution_count": 8,
   "outputs": [
    {
     "name": "stdout",
     "output_type": "stream",
     "text": [
      "0.25\n"
     ]
    }
   ],
   "source": [
    "print(audio.sampling_frequency / modified_spectrum.shape[0])"
   ],
   "metadata": {
    "collapsed": false
   }
  },
  {
   "cell_type": "code",
   "execution_count": 9,
   "outputs": [
    {
     "data": {
      "text/plain": "<Figure size 640x480 with 1 Axes>",
      "image/png": "[encoded data removed]"
     },
     "metadata": {},
     "output_type": "display_data"
    }
   ],
   "source": [
    "plt.plot(modified_spectrum[len(modified_spectrum) // 2: len(modified_spectrum) // 2 + 10000])\n",
    "plt.plot(original_spectrum[len(original_spectrum) // 2: len(original_spectrum) // 2 + 10000])\n",
    "plt.show()"
   ],
   "metadata": {
    "collapsed": false
   }
  },
  {
   "cell_type": "code",
   "execution_count": 9,
   "outputs": [],
   "source": [],
   "metadata": {
    "collapsed": false
   }
  }
 ],
 "metadata": {
  "kernelspec": {
   "display_name": "Python 3",
   "language": "python",
   "name": "python3"
  },
  "language_info": {
   "codemirror_mode": {
    "name": "ipython",
    "version": 2
   },
   "file_extension": ".py",
   "mimetype": "text/x-python",
   "name": "python",
   "nbconvert_exporter": "python",
   "pygments_lexer": "ipython2",
   "version": "2.7.6"
  }
 },
 "nbformat": 4,
 "nbformat_minor": 0
}
